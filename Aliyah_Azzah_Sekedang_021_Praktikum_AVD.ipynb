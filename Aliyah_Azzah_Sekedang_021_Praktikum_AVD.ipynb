{
  "nbformat": 4,
  "nbformat_minor": 0,
  "metadata": {
    "colab": {
      "provenance": [],
      "authorship_tag": "ABX9TyODh2T2uI4IoK+AwaIRCrUu",
      "include_colab_link": true
    },
    "kernelspec": {
      "name": "python3",
      "display_name": "Python 3"
    },
    "language_info": {
      "name": "python"
    }
  },
  "cells": [
    {
      "cell_type": "markdown",
      "metadata": {
        "id": "view-in-github",
        "colab_type": "text"
      },
      "source": [
        "<a href=\"https://colab.research.google.com/github/aliyah06667/Praktikum-AVD_Mini-Project/blob/main/Aliyah_Azzah_Sekedang_021_Praktikum_AVD.ipynb\" target=\"_parent\"><img src=\"https://colab.research.google.com/assets/colab-badge.svg\" alt=\"Open In Colab\"/></a>"
      ]
    },
    {
      "cell_type": "markdown",
      "source": [
        "#**BUSSINESS UNDERSTANDING**"
      ],
      "metadata": {
        "id": "qiy_bs8EPhrK"
      }
    },
    {
      "cell_type": "markdown",
      "source": [
        "##**Bussiness Objective**"
      ],
      "metadata": {
        "id": "ddYjW5SWPqdQ"
      }
    },
    {
      "cell_type": "markdown",
      "source": [
        "Tujuan utama dari analisis ini adalah untuk memahami pola pembelian pelanggan dalam e-commerce agar dapat meningkatkan strategi pemasaran, manajemen stok, dan loyalitas pelanggan. Dengan menganalisis data transaksi, platform dapat mengidentifikasi kapan pelanggan cenderung berbelanja, kategori produk yang paling diminati, serta faktor yang memengaruhi keputusan pembelian.\n",
        "\n",
        "Melalui pemanfaatan data, e-commerce dapat menerapkan rekomendasi produk yang lebih personal, mengoptimalkan waktu promosi, serta meningkatkan retensi pelanggan dengan strategi loyalitas yang lebih efektif. Dengan pendekatan berbasis data, bisnis dapat lebih kompetitif dan memberikan pengalaman belanja yang lebih baik bagi pelanggan."
      ],
      "metadata": {
        "id": "MOgbigvVPltF"
      }
    },
    {
      "cell_type": "markdown",
      "source": [
        "##**Assess Situation**"
      ],
      "metadata": {
        "id": "Uq772uJHP0j4"
      }
    },
    {
      "cell_type": "markdown",
      "source": [
        "Industri e-commerce menghadapi persaingan yang ketat, sehingga pemahaman terhadap pola perilaku pelanggan menjadi faktor kunci dalam meningkatkan penjualan dan kepuasan pelanggan. Banyak e-commerce kesulitan menentukan strategi pemasaran yang efektif, mengelola stok dengan optimal, serta mempertahankan pelanggan dalam jangka panjang.\n",
        "\n",
        "Beberapa kendala utama yang dihadapi adalah kurangnya pemahaman tentang preferensi pelanggan, waktu promosi yang kurang tepat, serta manajemen stok yang tidak efisien. Dengan menganalisis data transaksi, e-commerce dapat mengatasi masalah ini melalui strategi berbasis data yang lebih akurat dan terarah."
      ],
      "metadata": {
        "id": "BDRyLc5AP4GE"
      }
    },
    {
      "cell_type": "markdown",
      "source": [
        "##**Data Mining Goals**"
      ],
      "metadata": {
        "id": "9WiyuFLaP8SO"
      }
    },
    {
      "cell_type": "markdown",
      "source": [
        "- Mengidentifikasi pola transaksi pelanggan, seperti waktu belanja yang paling sering, jumlah transaksi per pelanggan, serta preferensi produk yang diminati.\n",
        "- Menganalisis hubungan antara frekuensi kunjungan pelanggan dan keputusan pembelian, guna mengetahui apakah pelanggan yang sering mengunjungi situs lebih cenderung melakukan pembelian dibandingkan pelanggan yang jarang berkunjung.\n",
        "- Mengelompokkan pelanggan berdasarkan kebiasaan belanja menggunakan teknik segmentasi untuk memahami perbedaan karakteristik pelanggan dan menargetkan promosi dengan lebih efektif.\n",
        "- Memprediksi produk yang berpotensi laris di masa mendatang, sehingga e-commerce dapat mengoptimalkan manajemen stok dan menghindari kelebihan atau kekurangan barang.\n",
        "- Meningkatkan retensi pelanggan dengan memberikan rekomendasi produk yang lebih personal serta program loyalitas yang sesuai dengan pola belanja mereka."
      ],
      "metadata": {
        "id": "okoeykjVQAn5"
      }
    },
    {
      "cell_type": "markdown",
      "source": [
        "##**Project Plan**"
      ],
      "metadata": {
        "id": "iHjz86IxQEuS"
      }
    },
    {
      "cell_type": "markdown",
      "source": [
        "1. **Pemilihan Dataset**  \n",
        "   - Menggunakan dataset *E-commerce Customer Behavior* untuk menganalisis pola transaksi pelanggan.  \n",
        "\n",
        "2. **Business Understanding**  \n",
        "   - Menentukan tujuan bisnis, mengidentifikasi permasalahan, dan menetapkan tujuan analisis data.  \n",
        "\n",
        "3. **Data Understanding**  \n",
        "   - Mengeksplorasi dataset untuk memahami struktur, fitur, dan distribusi data.  \n",
        "\n",
        "4. **Data Preparation**  \n",
        "   - Membersihkan data, menangani nilai yang hilang, dan menyiapkan data untuk analisis lebih lanjut.  \n",
        "\n",
        "5. **Data Analysis & Interpretation**  \n",
        "   - Menganalisis pola transaksi pelanggan, perilaku pembelian, dan faktor yang memengaruhi keputusan belanja.  \n",
        "\n",
        "6. **Documentation & Reporting**  \n",
        "   - Menyusun hasil analisis dalam Google Colab menggunakan Markdown.  \n",
        "   - Mengunggah laporan ke GitHub dan membagikan tautan repository."
      ],
      "metadata": {
        "id": "s37eydlcQIjS"
      }
    }
  ]
}